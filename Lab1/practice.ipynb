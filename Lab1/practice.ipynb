{
 "cells": [
  {
   "cell_type": "code",
   "execution_count": 1,
   "metadata": {
    "collapsed": true
   },
   "outputs": [],
   "source": [
    "docs = [\n",
    "    'I am a student and I live in East China NORMAL University. As a student, I\\'m very tired of coding.',\n",
    "    'I live in Beijing.',\n",
    "    'I love Japan.'\n",
    "]"
   ]
  },
  {
   "cell_type": "code",
   "execution_count": 2,
   "outputs": [],
   "source": [
    "from sklearn.feature_extraction.text import TfidfVectorizer\n",
    "t = TfidfVectorizer()"
   ],
   "metadata": {
    "collapsed": false,
    "pycharm": {
     "name": "#%%\n"
    }
   }
  },
  {
   "cell_type": "code",
   "execution_count": 3,
   "outputs": [],
   "source": [
    "t_matrix = t.fit_transform(docs)"
   ],
   "metadata": {
    "collapsed": false,
    "pycharm": {
     "name": "#%%\n"
    }
   }
  },
  {
   "cell_type": "code",
   "execution_count": 5,
   "outputs": [
    {
     "data": {
      "text/plain": "array(['am', 'and', 'as', 'beijing', 'china', 'coding', 'east', 'in',\n       'japan', 'live', 'love', 'normal', 'of', 'student', 'tired',\n       'university', 'very'], dtype=object)"
     },
     "execution_count": 5,
     "metadata": {},
     "output_type": "execute_result"
    }
   ],
   "source": [
    "t.get_feature_names_out()"
   ],
   "metadata": {
    "collapsed": false,
    "pycharm": {
     "name": "#%%\n"
    }
   }
  },
  {
   "cell_type": "code",
   "execution_count": 6,
   "outputs": [
    {
     "data": {
      "text/plain": "{'am': 0,\n 'student': 13,\n 'and': 1,\n 'live': 9,\n 'in': 7,\n 'east': 6,\n 'china': 4,\n 'normal': 11,\n 'university': 15,\n 'as': 2,\n 'very': 16,\n 'tired': 14,\n 'of': 12,\n 'coding': 5,\n 'beijing': 3,\n 'love': 10,\n 'japan': 8}"
     },
     "execution_count": 6,
     "metadata": {},
     "output_type": "execute_result"
    }
   ],
   "source": [
    "t.vocabulary_"
   ],
   "metadata": {
    "collapsed": false,
    "pycharm": {
     "name": "#%%\n"
    }
   }
  },
  {
   "cell_type": "code",
   "execution_count": 7,
   "outputs": [
    {
     "data": {
      "text/plain": "array([[0.24878394, 0.24878394, 0.24878394, 0.        , 0.24878394,\n        0.24878394, 0.24878394, 0.1892066 , 0.        , 0.1892066 ,\n        0.        , 0.24878394, 0.24878394, 0.49756788, 0.24878394,\n        0.24878394, 0.24878394],\n       [0.        , 0.        , 0.        , 0.68091856, 0.        ,\n        0.        , 0.        , 0.51785612, 0.        , 0.51785612,\n        0.        , 0.        , 0.        , 0.        , 0.        ,\n        0.        , 0.        ],\n       [0.        , 0.        , 0.        , 0.        , 0.        ,\n        0.        , 0.        , 0.        , 0.70710678, 0.        ,\n        0.70710678, 0.        , 0.        , 0.        , 0.        ,\n        0.        , 0.        ]])"
     },
     "execution_count": 7,
     "metadata": {},
     "output_type": "execute_result"
    }
   ],
   "source": [
    "t_matrix.toarray()"
   ],
   "metadata": {
    "collapsed": false,
    "pycharm": {
     "name": "#%%\n"
    }
   }
  },
  {
   "cell_type": "code",
   "execution_count": 1,
   "outputs": [
    {
     "name": "stdout",
     "output_type": "stream",
     "text": [
      "(1, 2)\n"
     ]
    }
   ],
   "source": [
    "import numpy as np\n",
    "label = np.array([['label', 'pred']])\n",
    "print(label.shape)"
   ],
   "metadata": {
    "collapsed": false,
    "pycharm": {
     "name": "#%%\n"
    }
   }
  },
  {
   "cell_type": "code",
   "execution_count": 3,
   "outputs": [
    {
     "name": "stdout",
     "output_type": "stream",
     "text": [
      "(2, 2)\n"
     ]
    },
    {
     "ename": "TypeError",
     "evalue": "only integer scalar arrays can be converted to a scalar index",
     "output_type": "error",
     "traceback": [
      "\u001B[1;31m---------------------------------------------------------------------------\u001B[0m",
      "\u001B[1;31mTypeError\u001B[0m                                 Traceback (most recent call last)",
      "Cell \u001B[1;32mIn[3], line 3\u001B[0m\n\u001B[0;32m      1\u001B[0m result \u001B[38;5;241m=\u001B[39m np\u001B[38;5;241m.\u001B[39marray([[\u001B[38;5;241m1\u001B[39m, \u001B[38;5;241m2\u001B[39m], [\u001B[38;5;241m3\u001B[39m, \u001B[38;5;241m4\u001B[39m]])\n\u001B[0;32m      2\u001B[0m \u001B[38;5;28mprint\u001B[39m(result\u001B[38;5;241m.\u001B[39mshape)\n\u001B[1;32m----> 3\u001B[0m \u001B[43mnp\u001B[49m\u001B[38;5;241;43m.\u001B[39;49m\u001B[43mconcatenate\u001B[49m\u001B[43m(\u001B[49m\u001B[43mlabel\u001B[49m\u001B[43m,\u001B[49m\u001B[43m \u001B[49m\u001B[43mresult\u001B[49m\u001B[43m)\u001B[49m\n",
      "File \u001B[1;32m<__array_function__ internals>:180\u001B[0m, in \u001B[0;36mconcatenate\u001B[1;34m(*args, **kwargs)\u001B[0m\n",
      "\u001B[1;31mTypeError\u001B[0m: only integer scalar arrays can be converted to a scalar index"
     ]
    }
   ],
   "source": [
    "result = np.array([[1, 2], [3, 4]])\n",
    "print(result.shape)\n",
    "np.concatenate(label, result)"
   ],
   "metadata": {
    "collapsed": false,
    "pycharm": {
     "name": "#%%\n"
    }
   }
  },
  {
   "cell_type": "code",
   "execution_count": 5,
   "outputs": [
    {
     "data": {
      "text/plain": "array([['label', 'pred'],\n       ['1', '2'],\n       ['3', '4']], dtype='<U11')"
     },
     "execution_count": 5,
     "metadata": {},
     "output_type": "execute_result"
    }
   ],
   "source": [
    "np.vstack((label, result))"
   ],
   "metadata": {
    "collapsed": false,
    "pycharm": {
     "name": "#%%\n"
    }
   }
  },
  {
   "cell_type": "code",
   "execution_count": 7,
   "outputs": [
    {
     "data": {
      "text/plain": "array([['label', 'pred'],\n       ['1', '2'],\n       ['3', '4']], dtype='<U11')"
     },
     "execution_count": 7,
     "metadata": {},
     "output_type": "execute_result"
    }
   ],
   "source": [
    "np.concatenate((label, result), axis=0)"
   ],
   "metadata": {
    "collapsed": false,
    "pycharm": {
     "name": "#%%\n"
    }
   }
  },
  {
   "cell_type": "code",
   "execution_count": 1,
   "outputs": [],
   "source": [
    "from sklearn import model_selection, preprocessing, linear_model, naive_bayes, metrics, svm\n",
    "from sklearn.feature_extraction.text import TfidfVectorizer, CountVectorizer\n",
    "from sklearn.datasets import load_files\n",
    "from sklearn.linear_model import LogisticRegression\n",
    "from sklearn.svm import SVC\n",
    "from sklearn.metrics import accuracy_score\n",
    "from sklearn.model_selection import cross_val_score, KFold, GridSearchCV, train_test_split\n",
    "import pandas as pd, numpy as np, string\n",
    "from keras.preprocessing import text, sequence\n",
    "from keras import layers, models, optimizers\n",
    "\n",
    "from nltk.tokenize import word_tokenize\n",
    "from nltk.corpus import stopwords\n",
    "from nltk.stem import WordNetLemmatizer\n",
    "\n",
    "import csv\n",
    "import datetime\n",
    "import pickle"
   ],
   "metadata": {
    "collapsed": false,
    "pycharm": {
     "name": "#%%\n"
    }
   }
  },
  {
   "cell_type": "code",
   "execution_count": 2,
   "outputs": [],
   "source": [
    "# 由于 train_data.txt 与 test.txt 的文件内容组织形式不一样，所以我们需要分别将其转化为统一的 csv 格式\n",
    "def txt_to_csv_train(filePathSrc, filePathDst):\n",
    "    list_data = []\n",
    "    with open(filePathSrc, 'r', encoding='utf-8') as input_file, open(filePathDst, 'w', newline='') as output_file:\n",
    "        for data in input_file:\n",
    "            data = eval(data)\n",
    "            list_data.append(data)\n",
    "        keys = list_data[0].keys()\n",
    "        dict_writer = csv.DictWriter(output_file, keys)\n",
    "        dict_writer.writeheader()\n",
    "        dict_writer.writerows(list_data)\n",
    "\n",
    "def txt_to_csv_test(filePathSrc, filePathDst):\n",
    "    with open(filePathSrc, 'r', encoding='utf-8') as input_file, open(filePathDst, 'w', newline='') as output_file:\n",
    "        stripped = (line.strip('\\n') for line in input_file)\n",
    "        # 这里只需要用第一个逗号进行分割，因为一个句子中可能有很多个逗号\n",
    "        lines = (line.split(', ', 1) for line in stripped if line)\n",
    "        writer = csv.writer(output_file)\n",
    "        writer.writerows(lines)"
   ],
   "metadata": {
    "collapsed": false,
    "pycharm": {
     "name": "#%%\n"
    }
   }
  },
  {
   "cell_type": "code",
   "execution_count": 5,
   "outputs": [
    {
     "name": "stdout",
     "output_type": "stream",
     "text": [
      "(8000, 29697)\n",
      "this model is running\n",
      "this model finishes running, running time: 541 seconds.\n",
      "Model score: 0.958125\n"
     ]
    }
   ],
   "source": [
    "txt_to_csv_train('train_data.txt', 'train_data.csv')\n",
    "txt_to_csv_test('test.txt', 'test.csv')\n",
    "\n",
    "dataset_train = pd.read_csv('train_data.csv')\n",
    "X = dataset_train.drop('label', axis=1)\n",
    "y = dataset_train['label']\n",
    "# X = X.to_numpy()\n",
    "X = X.values.tolist()\n",
    "# print(X)\n",
    "list1 = []\n",
    "for index_i in range(len(X)):\n",
    "    for index_j in range(len(X[index_i])):\n",
    "        list1.append(X[index_i][index_j])\n",
    "# print(list1)\n",
    "tv = TfidfVectorizer(stop_words='english')\n",
    "X_fit = tv.fit_transform(list1).toarray()\n",
    "print(X_fit.shape)\n",
    "\n",
    "# 数据集划分，进行模型的训练以及预测\n",
    "X_train, X_val, y_train, y_val = train_test_split(X_fit, y, test_size=0.2, random_state=42)\n",
    "model = SVC(kernel='linear', C=2.0, random_state=42)\n",
    "print('this model is running')\n",
    "starttime = datetime.datetime.now()\n",
    "model.fit(X_train, y_train)\n",
    "endtime = datetime.datetime.now()\n",
    "print('this model finishes running, running time:', (endtime - starttime).seconds, 'seconds.')\n",
    "score = model.score(X_val, y_val)\n",
    "print(\"Model score:\", score)"
   ],
   "metadata": {
    "collapsed": false,
    "pycharm": {
     "name": "#%%\n"
    }
   }
  },
  {
   "cell_type": "code",
   "execution_count": 4,
   "outputs": [
    {
     "name": "stdout",
     "output_type": "stream",
     "text": [
      "start selecting...\n",
      "The best parameters are {'C': 2} with a score of 0.89\n"
     ]
    }
   ],
   "source": [
    "grid = GridSearchCV(SVC(kernel='linear'), param_grid={\"C\":[0.5, 1, 2, 3, 4]}, cv=4)\n",
    "print('start selecting...')\n",
    "grid.fit(X_fit, y)\n",
    "print(\"The best parameters are %s with a score of %0.2f\" %(grid.best_params_, grid.best_score_))"
   ],
   "metadata": {
    "collapsed": false,
    "pycharm": {
     "name": "#%%\n"
    }
   }
  },
  {
   "cell_type": "markdown",
   "source": [
    "## Logistic Regression"
   ],
   "metadata": {
    "collapsed": false
   }
  },
  {
   "cell_type": "code",
   "execution_count": 20,
   "outputs": [
    {
     "name": "stdout",
     "output_type": "stream",
     "text": [
      "this model is running\n",
      "this model finishes running, running time: 41 seconds.\n",
      "Model score: 0.95125\n"
     ]
    }
   ],
   "source": [
    "# 数据集划分，进行模型的训练以及预测\n",
    "X_train, X_val, y_train, y_val = train_test_split(X_fit, y, test_size=0.2, random_state=42)\n",
    "model = LogisticRegression(penalty='l2', C=10, random_state=42, max_iter=200)\n",
    "print('this model is running')\n",
    "starttime = datetime.datetime.now()\n",
    "model.fit(X_train, y_train)\n",
    "endtime = datetime.datetime.now()\n",
    "print('this model finishes running, running time:', (endtime - starttime).seconds, 'seconds.')\n",
    "score = model.score(X_val, y_val)\n",
    "print(\"Model score:\", score)"
   ],
   "metadata": {
    "collapsed": false,
    "pycharm": {
     "name": "#%%\n"
    }
   }
  },
  {
   "cell_type": "code",
   "execution_count": 17,
   "outputs": [
    {
     "name": "stdout",
     "output_type": "stream",
     "text": [
      "The best parameters are {'C': 1000, 'penalty': 'l2'} with a score of 0.90\n"
     ]
    },
    {
     "name": "stderr",
     "output_type": "stream",
     "text": [
      "D:\\pythonDL\\lib\\site-packages\\sklearn\\linear_model\\_logistic.py:458: ConvergenceWarning: lbfgs failed to converge (status=1):\n",
      "STOP: TOTAL NO. of ITERATIONS REACHED LIMIT.\n",
      "\n",
      "Increase the number of iterations (max_iter) or scale the data as shown in:\n",
      "    https://scikit-learn.org/stable/modules/preprocessing.html\n",
      "Please also refer to the documentation for alternative solver options:\n",
      "    https://scikit-learn.org/stable/modules/linear_model.html#logistic-regression\n",
      "  n_iter_i = _check_optimize_result(\n"
     ]
    },
    {
     "name": "stdout",
     "output_type": "stream",
     "text": [
      "start selecting...\n",
      "The best parameters are {'C': 10, 'penalty': 'l2'} with a score of 0.90\n"
     ]
    }
   ],
   "source": [
    "grid = GridSearchCV(LogisticRegression(max_iter=300), param_grid={\"C\":[1, 2, 5, 10], \"penalty\":['l2']}, cv=4)\n",
    "print('start selecting...')\n",
    "grid.fit(X_fit, y)\n",
    "print(\"The best parameters are %s with a score of %0.2f\" %(grid.best_params_, grid.best_score_))"
   ],
   "metadata": {
    "collapsed": false,
    "pycharm": {
     "name": "#%%\n"
    }
   }
  },
  {
   "cell_type": "code",
   "execution_count": 22,
   "outputs": [
    {
     "name": "stdout",
     "output_type": "stream",
     "text": [
      "使用 SVM 和逻辑斯谛回归训练出来的数据有： 104 行的不同。\n",
      "459, 6\n",
      "\n",
      "1267, 5\n",
      "\n",
      "1440, 9\n",
      "\n",
      "811, 7\n",
      "\n",
      "191, 3\n",
      "\n",
      "1267, 0\n",
      "\n",
      "968, 8\n",
      "\n",
      "1030, 3\n",
      "\n",
      "882, 6\n",
      "\n",
      "723, 2\n",
      "\n",
      "328, 3\n",
      "\n",
      "1658, 8\n",
      "\n",
      "1981, 0\n",
      "\n",
      "901, 7\n",
      "\n",
      "191, 2\n",
      "\n",
      "1655, 2\n",
      "\n",
      "901, 3\n",
      "\n",
      "1010, 3\n",
      "\n",
      "1010, 2\n",
      "\n",
      "527, 6\n",
      "\n",
      "1189, 7\n",
      "\n",
      "1254, 7\n",
      "\n",
      "822, 0\n",
      "\n",
      "968, 4\n",
      "\n",
      "1455, 8\n",
      "\n",
      "1858, 4\n",
      "\n",
      "459, 9\n",
      "\n",
      "1062, 9\n",
      "\n",
      "1605, 6\n",
      "\n",
      "390, 4\n",
      "\n",
      "1487, 0\n",
      "\n",
      "522, 8\n",
      "\n",
      "1898, 6\n",
      "\n",
      "1605, 9\n",
      "\n",
      "723, 5\n",
      "\n",
      "910, 8\n",
      "\n",
      "1487, 5\n",
      "\n",
      "1030, 2\n",
      "\n",
      "889, 5\n",
      "\n",
      "1025, 8\n",
      "\n",
      "1189, 2\n",
      "\n",
      "1542, 5\n",
      "\n",
      "320, 6\n",
      "\n",
      "527, 0\n",
      "\n",
      "328, 4\n",
      "\n",
      "882, 9\n",
      "\n",
      "321, 7\n",
      "\n",
      "622, 9\n",
      "\n",
      "655, 2\n",
      "\n",
      "625, 0\n",
      "\n",
      "52, 7\n",
      "\n",
      "169, 6\n",
      "\n",
      "1440, 0\n",
      "\n",
      "1852, 4\n",
      "\n",
      "52, 2\n",
      "\n",
      "1696, 6\n",
      "\n",
      "655, 7\n",
      "\n",
      "632, 5\n",
      "\n",
      "406, 0\n",
      "\n",
      "1898, 5\n",
      "\n",
      "889, 1\n",
      "\n",
      "367, 0\n",
      "\n",
      "1871, 8\n",
      "\n",
      "1765, 9\n",
      "\n",
      "128, 5\n",
      "\n",
      "1729, 0\n",
      "\n",
      "1981, 5\n",
      "\n",
      "1696, 9\n",
      "\n",
      "822, 5\n",
      "\n",
      "390, 2\n",
      "\n",
      "1251, 8\n",
      "\n",
      "811, 2\n",
      "\n",
      "599, 5\n",
      "\n",
      "910, 7\n",
      "\n",
      "625, 5\n",
      "\n",
      "667, 0\n",
      "\n",
      "1729, 5\n",
      "\n",
      "599, 0\n",
      "\n",
      "128, 0\n",
      "\n",
      "169, 0\n",
      "\n",
      "1542, 0\n",
      "\n",
      "1858, 2\n",
      "\n",
      "1025, 2\n",
      "\n",
      "667, 6\n",
      "\n",
      "1852, 8\n",
      "\n",
      "1871, 2\n",
      "\n",
      "204, 2\n",
      "\n",
      "321, 2\n",
      "\n",
      "1251, 3\n",
      "\n",
      "622, 0\n",
      "\n",
      "367, 1\n",
      "\n",
      "320, 0\n",
      "\n",
      "690, 5\n",
      "\n",
      "204, 6\n",
      "\n",
      "1062, 6\n",
      "\n",
      "1254, 3\n",
      "\n",
      "1655, 7\n",
      "\n",
      "1658, 2\n",
      "\n",
      "522, 3\n",
      "\n",
      "1765, 6\n",
      "\n",
      "690, 0\n",
      "\n",
      "1455, 3\n",
      "\n",
      "632, 0\n",
      "\n",
      "406, 6\n",
      "\n"
     ]
    }
   ],
   "source": [
    "# 读取文件 1\n",
    "with open(\"results_SVM.txt\", \"r\") as file1:\n",
    "    lines1 = file1.readlines()\n",
    "\n",
    "# 读取文件 2\n",
    "with open(\"results_LR.txt\", \"r\") as file2:\n",
    "    lines2 = file2.readlines()\n",
    "\n",
    "# 转换为集合并获取不同的行\n",
    "set1 = set(lines1)\n",
    "set2 = set(lines2)\n",
    "\n",
    "differences = set1.symmetric_difference(set2)\n",
    "\n",
    "# 输出不同行的个数\n",
    "print(\"使用 SVM 和逻辑斯谛回归训练出来的数据有：\", len(differences), \"行的不同。\")\n",
    "# 输出不同的行\n",
    "for line in differences:\n",
    "    print(line)\n"
   ],
   "metadata": {
    "collapsed": false,
    "pycharm": {
     "name": "#%%\n"
    }
   }
  }
 ],
 "metadata": {
  "kernelspec": {
   "display_name": "Python 3",
   "language": "python",
   "name": "python3"
  },
  "language_info": {
   "codemirror_mode": {
    "name": "ipython",
    "version": 2
   },
   "file_extension": ".py",
   "mimetype": "text/x-python",
   "name": "python",
   "nbconvert_exporter": "python",
   "pygments_lexer": "ipython2",
   "version": "2.7.6"
  }
 },
 "nbformat": 4,
 "nbformat_minor": 0
}